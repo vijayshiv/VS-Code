{
 "cells": [
  {
   "cell_type": "code",
   "execution_count": 1,
   "id": "baa6a69a",
   "metadata": {},
   "outputs": [],
   "source": [
    "li = [0,1,2,3,4,5,6,7,8,9]"
   ]
  },
  {
   "cell_type": "code",
   "execution_count": 2,
   "id": "15ef4f1e",
   "metadata": {},
   "outputs": [
    {
     "name": "stdout",
     "output_type": "stream",
     "text": [
      "[0]\n",
      "[3, 4, 5, 6, 7, 8, 9]\n",
      "[]\n",
      "[3, 4, 5]\n",
      "[]\n",
      "[1, 2, 3, 4, 5, 6, 7, 8]\n",
      "[0, 1, 2, 3, 4, 5, 6, 7, 8, 9]\n",
      "[5, 6, 7, 8, 9]\n",
      "[0]\n",
      "[4, 5, 6, 7, 8]\n"
     ]
    }
   ],
   "source": [
    "print(li[:1])\n",
    "print(li[3:])\n",
    "print(li[4:1])\n",
    "print(li[3:6])\n",
    "print(li[0:0])\n",
    "print(li[1:9])\n",
    "print(li[:])\n",
    "print(li[5:11])\n",
    "print(li[0:1])\n",
    "print(li[-6:-1])"
   ]
  },
  {
   "cell_type": "code",
   "execution_count": null,
   "id": "55d16329",
   "metadata": {},
   "outputs": [],
   "source": []
  }
 ],
 "metadata": {
  "kernelspec": {
   "display_name": "Python 3 (ipykernel)",
   "language": "python",
   "name": "python3"
  },
  "language_info": {
   "codemirror_mode": {
    "name": "ipython",
    "version": 3
   },
   "file_extension": ".py",
   "mimetype": "text/x-python",
   "name": "python",
   "nbconvert_exporter": "python",
   "pygments_lexer": "ipython3",
   "version": "3.9.7"
  }
 },
 "nbformat": 4,
 "nbformat_minor": 5
}
