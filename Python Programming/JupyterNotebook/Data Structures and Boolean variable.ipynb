{
 "cells": [
  {
   "cell_type": "markdown",
   "id": "eaf8b963",
   "metadata": {},
   "source": [
    "# Python data structures\n",
    " - Booelean"
   ]
  },
  {
   "cell_type": "code",
   "execution_count": 15,
   "id": "8c30a40a",
   "metadata": {},
   "outputs": [],
   "source": [
    "mystr = \"ijayshiv\""
   ]
  },
  {
   "cell_type": "code",
   "execution_count": 16,
   "id": "1d91c807",
   "metadata": {},
   "outputs": [
    {
     "name": "stdout",
     "output_type": "stream",
     "text": [
      "True\n",
      "True\n",
      "False\n",
      "False\n",
      "False\n",
      "True\n",
      "False\n",
      "False\n",
      "False\n"
     ]
    }
   ],
   "source": [
    "print(mystr.isalnum()) # check if all char are numbers\n",
    "print(mystr.isalpha()) # check if all char in the string are alphabetic\n",
    "print(mystr.isdigit()) # test if the string contains digites\n",
    "print(mystr.istitle())\n",
    "print(mystr.isupper())\n",
    "print(mystr.islower())\n",
    "print(mystr.isspace())\n",
    "print(mystr.endswith('i'))\n",
    "print(mystr.startswith('v'))"
   ]
  }
 ],
 "metadata": {
  "kernelspec": {
   "display_name": "Python 3 (ipykernel)",
   "language": "python",
   "name": "python3"
  },
  "language_info": {
   "codemirror_mode": {
    "name": "ipython",
    "version": 3
   },
   "file_extension": ".py",
   "mimetype": "text/x-python",
   "name": "python",
   "nbconvert_exporter": "python",
   "pygments_lexer": "ipython3",
   "version": "3.9.7"
  }
 },
 "nbformat": 4,
 "nbformat_minor": 5
}
